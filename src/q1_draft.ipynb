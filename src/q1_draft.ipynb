{
 "cells": [
  {
   "cell_type": "code",
   "execution_count": 1,
   "metadata": {
    "collapsed": false
   },
   "outputs": [
    {
     "data": {
      "text/plain": [
       "funcapp"
      ]
     },
     "execution_count": 1,
     "metadata": {},
     "output_type": "execute_result"
    }
   ],
   "source": [
    "module funcapp\n",
    "\n",
    "\n",
    "\n",
    "\n",
    "\t# use chebyshev to interpolate this:\n",
    "\tfunction q1(n)\n",
    "\t\t\n",
    "\tend\n",
    "\n",
    "\tfunction q2(n)\n",
    "\t\t\n",
    "\tend\n",
    "\n",
    "\n",
    "\t# plot the first 9 basis Chebyshev Polynomial Basisi Fnctions\n",
    "\tfunction q3()\n",
    "\n",
    "\tend\n",
    "\n",
    "\tChebyT(x,deg) = cos(acos(x)*deg)\n",
    "\tunitmap(x,lb,ub) = 2.*(x.-lb)/(ub.-lb) - 1\t#[a,b] -> [-1,1]\n",
    "\n",
    "\ttype ChebyType\n",
    "\t\tf::Function # fuction to approximate \n",
    "\t\tnodes::Union{Vector,LinSpace} # evaluation points\n",
    "\t\tbasis::Matrix # basis evaluated at nodes\n",
    "\t\tcoefs::Vector # estimated coefficients\n",
    "\n",
    "\t\tdeg::Int \t# degree of chebypolynomial\n",
    "\t\tlb::Float64 # bounds\n",
    "\t\tub::Float64\n",
    "\n",
    "\t\t# constructor\n",
    "\t\tfunction ChebyType(_nodes::Union{Vector,LinSpace},_deg,_lb,_ub,_f::Function)\n",
    "\t\t\tn = length(_nodes)\n",
    "\t\t\ty = _f(_nodes)\n",
    "\t\t\t_basis = Float64[ChebyT(unitmap(_nodes[i],_lb,_ub),j) for i=1:n,j=0:_deg]\n",
    "\t\t\t_coefs = _basis \\ y  # type `?\\` to find out more about the backslash operator. depending the args given, it performs a different operation\n",
    "\t\t\t# create a ChebyType with those values\n",
    "\t\t\tnew(_f,_nodes,_basis,_coefs,_deg,_lb,_ub)\n",
    "\t\tend\n",
    "\tend\n",
    "\t\n",
    "\t# function to predict points using info stored in ChebyType\n",
    "\tfunction predict(Ch::ChebyType,x_new)\n",
    "\n",
    "\t\ttrue_new = Ch.f(x_new)\n",
    "\t\tbasis_new = Float64[ChebyT(unitmap(x_new[i],Ch.lb,Ch.ub),j) for i=1:length(x_new),j=0:Ch.deg]\n",
    "\t\tbasis_nodes = Float64[ChebyT(unitmap(Ch.nodes[i],Ch.lb,Ch.ub),j) for i=1:length(Ch.nodes),j=0:Ch.deg]\n",
    "\t\tpreds = basis_new * Ch.coefs\n",
    "\t\tpreds_nodes = basis_nodes * Ch.coefs\n",
    "\n",
    "\t\treturn Dict(\"x\"=> x_new,\"truth\"=>true_new, \"preds\"=>preds, \"preds_nodes\" => preds_nodes)\n",
    "\tend\n",
    "\n",
    "\tfunction q4a(deg=(5,9,15),lb=-1.0,ub=1.0)\n",
    "\n",
    "\n",
    "\tend\n",
    "\n",
    "\tfunction q4b()\n",
    "\n",
    "\t\t\n",
    "\tend\n",
    "\n",
    "\tfunction q5()\n",
    "\n",
    "\t\t\n",
    "\tend\n",
    "\n",
    "\n",
    "\t\t# function to run all questions\n",
    "\tfunction runall()\n",
    "\t\tprintln(\"running all questions of HW-funcapprox:\")\n",
    "\t\tq1(15)\n",
    "\t\tq2(15)\n",
    "\t\tq3()\n",
    "\t\tq4a()\n",
    "\t\tq4b()\n",
    "\t\tq5()\n",
    "\tend\n",
    "\n",
    "\n",
    "end"
   ]
  },
  {
   "cell_type": "code",
   "execution_count": 69,
   "metadata": {
    "collapsed": false
   },
   "outputs": [
    {
     "name": "stderr",
     "output_type": "stream",
     "text": [
      "WARNING: Base.OS_NAME is deprecated.\n",
      "  likely near /Users/theodurandard/.julia/v0.5/ApproXD/src/ApproXD.jl:16\n",
      "\n",
      "WARNING: deprecated syntax \"[a=>b for (a,b) in c]\".\n",
      "Use \"Dict(a=>b for (a,b) in c)\" instead.\n",
      "\n",
      "WARNING: deprecated syntax \"[a=>b for (a,b) in c]\".\n",
      "Use \"Dict(a=>b for (a,b) in c)\" instead.\n",
      "\n",
      "WARNING: deprecated syntax \"[a=>b for (a,b) in c]\".\n",
      "Use \"Dict(a=>b for (a,b) in c)\" instead.\n",
      "\n",
      "WARNING: deprecated syntax \"[a=>b for (a,b) in c]\".\n",
      "Use \"Dict(a=>b for (a,b) in c)\" instead.\n",
      "\n",
      "WARNING: deprecated syntax \"[a=>b for (a,b) in c]\".\n",
      "Use \"Dict(a=>b for (a,b) in c)\" instead.\n",
      "\n",
      "WARNING: deprecated syntax \"[a=>b for (a,b) in c]\".\n",
      "Use \"Dict(a=>b for (a,b) in c)\" instead.\n",
      "\n",
      "WARNING: deprecated syntax \"[a=>b for (a,b) in c]\".\n",
      "Use \"Dict(a=>b for (a,b) in c)\" instead.\n",
      "\n",
      "WARNING: deprecated syntax \"[a=>b for (a,b) in c]\".\n",
      "Use \"Dict(a=>b for (a,b) in c)\" instead.\n",
      "\n",
      "WARNING: deprecated syntax \"[a=>b for (a,b) in c]\".\n",
      "Use \"Dict(a=>b for (a,b) in c)\" instead.\n",
      "\n",
      "WARNING: deprecated syntax \"[a=>b for (a,b) in c]\".\n",
      "Use \"Dict(a=>b for (a,b) in c)\" instead.\n",
      "\n",
      "WARNING: deprecated syntax \"[a=>b for (a,b) in c]\".\n",
      "Use \"Dict(a=>b for (a,b) in c)\" instead.\n",
      "\n",
      "WARNING: deprecated syntax \"[a=>b for (a,b) in c]\".\n",
      "Use \"Dict(a=>b for (a,b) in c)\" instead.\n"
     ]
    }
   ],
   "source": [
    "using Plots\n",
    "using FastGaussQuadrature\n",
    "using LaTeXStrings\n",
    "using ApproxFun\n",
    "using ApproXD\n",
    "using Base.Test"
   ]
  },
  {
   "cell_type": "code",
   "execution_count": 55,
   "metadata": {
    "collapsed": false
   },
   "outputs": [
    {
     "name": "stderr",
     "output_type": "stream",
     "text": [
      "WARNING: Method definition f(Any) in module Main at In[54]:9 overwritten at In[55]:9.\n"
     ]
    },
    {
     "data": {
      "text/plain": [
       "15-element Array{Float64,1}:\n",
       "  4.11921    \n",
       " 10.9067     \n",
       "  4.50958    \n",
       "  1.91951    \n",
       " -0.65141    \n",
       "  0.182413   \n",
       " -0.0433672  \n",
       "  0.00894424 \n",
       " -0.0016274  \n",
       "  0.000264746\n",
       " -3.89288e-5 \n",
       "  5.22073e-6 \n",
       " -6.43423e-7 \n",
       "  7.33377e-8 \n",
       " -7.7041e-9  "
      ]
     },
     "execution_count": 55,
     "metadata": {},
     "output_type": "execute_result"
    }
   ],
   "source": [
    "# In this exercise you should write some code that approximates the function \n",
    "# $f(x) = x + 2x^2 - exp(-x)$ for $x\\in[-3,3]$. You should define a function q1(n), \n",
    "# where n is the number of interpolation points. You should use an approximation of degree \n",
    "#deg=n-1, and you should set n=15 Chebyshev interpolation nodes.\n",
    "\n",
    "n = 15\n",
    "deg = n -1\n",
    "\n",
    "f(x) = x .+ 2.*x.^2 - e.^(-x)\n",
    "\n",
    "S = [-3,3] # domain of integration\n",
    "\n",
    "z = gausschebyshev(n)[1]\n",
    "\n",
    "x = (S[2] + S[1])/2 + (S[2] - S[1])/2.*z\n",
    "# Remark that the interval is still centered, so the first term is useless in this case\n",
    "\n",
    "F_interp_nodes = f(x)\n",
    "\n",
    "Phi = Array{Float64}(n, deg +1)\n",
    "for d in 1:(deg+1)\n",
    "    Phi[:, d] = cos(acos.(z)*(d-1))\n",
    "end\n",
    "\n",
    "c = Phi\\F_interp_nodes"
   ]
  },
  {
   "cell_type": "code",
   "execution_count": 67,
   "metadata": {
    "collapsed": false
   },
   "outputs": [
    {
     "data": {
      "text/plain": [
       "100-element Array{Float64,1}:\n",
       " -5.08554\n",
       " -4.56371\n",
       " -4.09664\n",
       " -3.68026\n",
       " -3.31071\n",
       " -2.98439\n",
       " -2.69788\n",
       " -2.44797\n",
       " -2.23166\n",
       " -2.0461 \n",
       " -1.88862\n",
       " -1.7567 \n",
       " -1.64798\n",
       "  ⋮      \n",
       " 13.1253 \n",
       " 13.7646 \n",
       " 14.4182 \n",
       " 15.0863 \n",
       " 15.7687 \n",
       " 16.4656 \n",
       " 17.1769 \n",
       " 17.9026 \n",
       " 18.6428 \n",
       " 19.3974 \n",
       " 20.1666 \n",
       " 20.9502 "
      ]
     },
     "execution_count": 67,
     "metadata": {},
     "output_type": "execute_result"
    }
   ],
   "source": [
    "# predict n_new=100 new equally spaced points in $[-3,3]$ using your interpolator.\n",
    "\n",
    "n_new = 100\n",
    "\n",
    "x_new = linspace(S[1], S[2], n_new)\n",
    "\n",
    "z_new = 2.*(x_new .- S[1])/(S[2] - S[1]) - 1 \n",
    "\n",
    "Phi_new = Array{Float64}(n_new, deg+1)\n",
    "\n",
    "for d in 0:deg\n",
    "    Phi_new[:,d+1] = cos(acos.(z_new).*d)\n",
    "end\n",
    "\n",
    "F_interp_new = Phi_new * c"
   ]
  },
  {
   "cell_type": "code",
   "execution_count": 95,
   "metadata": {
    "collapsed": false
   },
   "outputs": [
    {
     "data": {
      "text/html": [
       "<img src=\"data:image/png;base64,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\" />"
      ]
     },
     "execution_count": 95,
     "metadata": {},
     "output_type": "execute_result"
    }
   ],
   "source": [
    "# make a plot with 2 panels. panel 1 shows true function values and your approximation and panel 2 shows the deviation in your \n",
    "# approximation from the true $f$.\n",
    "\n",
    "F_new = f(x_new)\n",
    "\n",
    "err = abs.(F_new .- F_interp_new)\n",
    "\n",
    "plot1 = Plots.plot(x_new, [F_new, F_interp_new], line = 1, label = [L\"f(x)\" L\"\\hat{f}(x)\"],\n",
    "                    xlab = L\"x\", title = \"Function Approximation\", legendfont = font(12))\n",
    "\n",
    "plot2 = Plots.plot(x_new, err, line = 1, color = :red, label = L\"$f(x) - \\hat{f}(x)$\", xlab = L\"x\",\n",
    "                        title = \"Approximation error\", legendfont = font(12))"
   ]
  },
  {
   "cell_type": "code",
   "execution_count": 83,
   "metadata": {
    "collapsed": false
   },
   "outputs": [
    {
     "data": {
      "text/plain": [
       "\u001b[1m\u001b[32mTest Passed\n",
       "\u001b[0m  Expression: maxabs(F_interp_test - f.(x_test)) < 1.0e-9\n",
       "   Evaluated: 9.162341996216128e-10 < 1.0e-9"
      ]
     },
     "execution_count": 83,
     "metadata": {},
     "output_type": "execute_result"
    }
   ],
   "source": [
    "# Write an automated test that passes if the maximal deviation in your approximation from \n",
    "# the true $f$ is smaller than 1e-9.\n",
    "\n",
    "n_test = 300\n",
    "\n",
    "x_test = (rand(n_test) - 1/2) *(S[2] - S[1])\n",
    "\n",
    "z_test = 2.*(x_test .- S[1])/(S[2] - S[1]) - 1 \n",
    "\n",
    "Phi_test = Array{Float64}(n_test, deg+1)\n",
    "\n",
    "for d in 0:deg\n",
    "    Phi_test[:,d+1] = cos(acos.(z_test).*d)\n",
    "end\n",
    "\n",
    "F_interp_test = Phi_test * c\n",
    "\n",
    "@test maxabs(F_interp_test - f.(x_test)) < 1e-9"
   ]
  },
  {
   "cell_type": "code",
   "execution_count": 76,
   "metadata": {
    "collapsed": false
   },
   "outputs": [
    {
     "data": {
      "text/markdown": [
       "```\n",
       "rand([rng], [S], [dims...])\n",
       "```\n",
       "\n",
       "Pick a random element or array of random elements from the set of values specified by `S`; `S` can be\n",
       "\n",
       "  * an indexable collection (for example `1:n` or `['x','y','z']`), or\n",
       "  * a type: the set of values to pick from is then equivalent to `typemin(S):typemax(S)` for integers (this is not applicable to `BigInt`), and to $[0, 1)$ for floating point numbers;\n",
       "\n",
       "`S` defaults to `Float64`.\n"
      ],
      "text/plain": [
       "```\n",
       "rand([rng], [S], [dims...])\n",
       "```\n",
       "\n",
       "Pick a random element or array of random elements from the set of values specified by `S`; `S` can be\n",
       "\n",
       "  * an indexable collection (for example `1:n` or `['x','y','z']`), or\n",
       "  * a type: the set of values to pick from is then equivalent to `typemin(S):typemax(S)` for integers (this is not applicable to `BigInt`), and to $[0, 1)$ for floating point numbers;\n",
       "\n",
       "`S` defaults to `Float64`.\n"
      ]
     },
     "execution_count": 76,
     "metadata": {},
     "output_type": "execute_result"
    }
   ],
   "source": [
    "? rand()"
   ]
  },
  {
   "cell_type": "code",
   "execution_count": 93,
   "metadata": {
    "collapsed": false
   },
   "outputs": [
    {
     "data": {
      "text/markdown": [
       "The main plot command.  Use `plot` to create a new plot object, and `plot!` to add to an existing one:\n",
       "\n",
       "```\n",
       "    plot(args...; kw...)                  # creates a new plot window, and sets it to be the current\n",
       "    plot!(args...; kw...)                 # adds to the `current`\n",
       "    plot!(plotobj, args...; kw...)        # adds to the plot `plotobj`\n",
       "```\n",
       "\n",
       "There are lots of ways to pass in data, and lots of keyword arguments... just try it and it will likely work as expected. When you pass in matrices, it splits by columns.  See the documentation for more info.\n"
      ],
      "text/plain": [
       "The main plot command.  Use `plot` to create a new plot object, and `plot!` to add to an existing one:\n",
       "\n",
       "```\n",
       "    plot(args...; kw...)                  # creates a new plot window, and sets it to be the current\n",
       "    plot!(args...; kw...)                 # adds to the `current`\n",
       "    plot!(plotobj, args...; kw...)        # adds to the plot `plotobj`\n",
       "```\n",
       "\n",
       "There are lots of ways to pass in data, and lots of keyword arguments... just try it and it will likely work as expected. When you pass in matrices, it splits by columns.  See the documentation for more info.\n"
      ]
     },
     "execution_count": 93,
     "metadata": {},
     "output_type": "execute_result"
    }
   ],
   "source": [
    "? Plots.plot"
   ]
  },
  {
   "cell_type": "code",
   "execution_count": null,
   "metadata": {
    "collapsed": true
   },
   "outputs": [],
   "source": []
  }
 ],
 "metadata": {
  "kernelspec": {
   "display_name": "Julia 0.5.0",
   "language": "julia",
   "name": "julia-0.5"
  },
  "language_info": {
   "file_extension": ".jl",
   "mimetype": "application/julia",
   "name": "julia",
   "version": "0.5.0"
  }
 },
 "nbformat": 4,
 "nbformat_minor": 2
}
